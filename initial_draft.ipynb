{
 "cells": [
  {
   "cell_type": "markdown",
   "metadata": {},
   "source": [
    "# **Holiday Package Prediction**"
   ]
  },
  {
   "cell_type": "markdown",
   "metadata": {},
   "source": [
    "**Steps of the Data Science Pipeline**\n",
    "- Acquire our Data\n",
    "- Prepare/Clean our Data\n",
    "- Explore/Analyze our Data\n",
    "- Model"
   ]
  },
  {
   "cell_type": "code",
   "execution_count": 1,
   "metadata": {},
   "outputs": [],
   "source": [
    "import pandas as pd\n",
    "import numpy as np\n",
    "\n",
    "import seaborn as sns\n",
    "import matplotlib.pyplot as plt\n",
    "\n",
    "import wrangle as w\n",
    "import explore as ex"
   ]
  },
  {
   "cell_type": "markdown",
   "metadata": {},
   "source": [
    "### Acquire Data"
   ]
  },
  {
   "cell_type": "markdown",
   "metadata": {},
   "source": [
    "**Acquired data from [here](https://www.kaggle.com/susant4learning/holiday-package-purchase-prediction?select=Travel.csv)"
   ]
  },
  {
   "cell_type": "code",
   "execution_count": 30,
   "metadata": {},
   "outputs": [],
   "source": [
    "# bring in CSV file\n",
    "df = pd.read_csv('Travel.csv')"
   ]
  },
  {
   "cell_type": "code",
   "execution_count": 31,
   "metadata": {},
   "outputs": [
    {
     "name": "stdout",
     "output_type": "stream",
     "text": [
      "<class 'pandas.core.frame.DataFrame'>\n",
      "RangeIndex: 4888 entries, 0 to 4887\n",
      "Data columns (total 20 columns):\n",
      " #   Column                    Non-Null Count  Dtype  \n",
      "---  ------                    --------------  -----  \n",
      " 0   CustomerID                4888 non-null   int64  \n",
      " 1   ProdTaken                 4888 non-null   int64  \n",
      " 2   Age                       4662 non-null   float64\n",
      " 3   TypeofContact             4863 non-null   object \n",
      " 4   CityTier                  4888 non-null   int64  \n",
      " 5   DurationOfPitch           4637 non-null   float64\n",
      " 6   Occupation                4888 non-null   object \n",
      " 7   Gender                    4888 non-null   object \n",
      " 8   NumberOfPersonVisiting    4888 non-null   int64  \n",
      " 9   NumberOfFollowups         4843 non-null   float64\n",
      " 10  ProductPitched            4888 non-null   object \n",
      " 11  PreferredPropertyStar     4862 non-null   float64\n",
      " 12  MaritalStatus             4888 non-null   object \n",
      " 13  NumberOfTrips             4748 non-null   float64\n",
      " 14  Passport                  4888 non-null   int64  \n",
      " 15  PitchSatisfactionScore    4888 non-null   int64  \n",
      " 16  OwnCar                    4888 non-null   int64  \n",
      " 17  NumberOfChildrenVisiting  4822 non-null   float64\n",
      " 18  Designation               4888 non-null   object \n",
      " 19  MonthlyIncome             4655 non-null   float64\n",
      "dtypes: float64(7), int64(7), object(6)\n",
      "memory usage: 763.9+ KB\n",
      "None\n",
      "\n",
      "------------------------\n",
      "\n",
      "This dataframe has 4888 rows and 20 columns.\n",
      "\n",
      "------------------------\n",
      "\n",
      "Null count in dataframe:\n",
      "------------------------\n",
      "CustomerID                    0\n",
      "ProdTaken                     0\n",
      "Age                         226\n",
      "TypeofContact                25\n",
      "CityTier                      0\n",
      "DurationOfPitch             251\n",
      "Occupation                    0\n",
      "Gender                        0\n",
      "NumberOfPersonVisiting        0\n",
      "NumberOfFollowups            45\n",
      "ProductPitched                0\n",
      "PreferredPropertyStar        26\n",
      "MaritalStatus                 0\n",
      "NumberOfTrips               140\n",
      "Passport                      0\n",
      "PitchSatisfactionScore        0\n",
      "OwnCar                        0\n",
      "NumberOfChildrenVisiting     66\n",
      "Designation                   0\n",
      "MonthlyIncome               233\n",
      "dtype: int64\n",
      "\n",
      "------------------------\n",
      " Dataframe sample:\n",
      "\n"
     ]
    },
    {
     "data": {
      "text/html": [
       "<div>\n",
       "<style scoped>\n",
       "    .dataframe tbody tr th:only-of-type {\n",
       "        vertical-align: middle;\n",
       "    }\n",
       "\n",
       "    .dataframe tbody tr th {\n",
       "        vertical-align: top;\n",
       "    }\n",
       "\n",
       "    .dataframe thead th {\n",
       "        text-align: right;\n",
       "    }\n",
       "</style>\n",
       "<table border=\"1\" class=\"dataframe\">\n",
       "  <thead>\n",
       "    <tr style=\"text-align: right;\">\n",
       "      <th></th>\n",
       "      <th>CustomerID</th>\n",
       "      <th>ProdTaken</th>\n",
       "      <th>Age</th>\n",
       "      <th>TypeofContact</th>\n",
       "      <th>CityTier</th>\n",
       "      <th>DurationOfPitch</th>\n",
       "      <th>Occupation</th>\n",
       "      <th>Gender</th>\n",
       "      <th>NumberOfPersonVisiting</th>\n",
       "      <th>NumberOfFollowups</th>\n",
       "      <th>ProductPitched</th>\n",
       "      <th>PreferredPropertyStar</th>\n",
       "      <th>MaritalStatus</th>\n",
       "      <th>NumberOfTrips</th>\n",
       "      <th>Passport</th>\n",
       "      <th>PitchSatisfactionScore</th>\n",
       "      <th>OwnCar</th>\n",
       "      <th>NumberOfChildrenVisiting</th>\n",
       "      <th>Designation</th>\n",
       "      <th>MonthlyIncome</th>\n",
       "    </tr>\n",
       "  </thead>\n",
       "  <tbody>\n",
       "    <tr>\n",
       "      <th>198</th>\n",
       "      <td>200198</td>\n",
       "      <td>0</td>\n",
       "      <td>38.0</td>\n",
       "      <td>Self Enquiry</td>\n",
       "      <td>1</td>\n",
       "      <td>8.0</td>\n",
       "      <td>Salaried</td>\n",
       "      <td>Male</td>\n",
       "      <td>2</td>\n",
       "      <td>3.0</td>\n",
       "      <td>Deluxe</td>\n",
       "      <td>3.0</td>\n",
       "      <td>Divorced</td>\n",
       "      <td>1.0</td>\n",
       "      <td>0</td>\n",
       "      <td>2</td>\n",
       "      <td>0</td>\n",
       "      <td>1.0</td>\n",
       "      <td>Manager</td>\n",
       "      <td>21553.0</td>\n",
       "    </tr>\n",
       "    <tr>\n",
       "      <th>1045</th>\n",
       "      <td>201045</td>\n",
       "      <td>0</td>\n",
       "      <td>40.0</td>\n",
       "      <td>Self Enquiry</td>\n",
       "      <td>1</td>\n",
       "      <td>8.0</td>\n",
       "      <td>Small Business</td>\n",
       "      <td>Male</td>\n",
       "      <td>3</td>\n",
       "      <td>3.0</td>\n",
       "      <td>Basic</td>\n",
       "      <td>3.0</td>\n",
       "      <td>Married</td>\n",
       "      <td>3.0</td>\n",
       "      <td>0</td>\n",
       "      <td>1</td>\n",
       "      <td>0</td>\n",
       "      <td>0.0</td>\n",
       "      <td>Executive</td>\n",
       "      <td>17345.0</td>\n",
       "    </tr>\n",
       "    <tr>\n",
       "      <th>3699</th>\n",
       "      <td>203699</td>\n",
       "      <td>1</td>\n",
       "      <td>34.0</td>\n",
       "      <td>Self Enquiry</td>\n",
       "      <td>3</td>\n",
       "      <td>23.0</td>\n",
       "      <td>Salaried</td>\n",
       "      <td>Fe Male</td>\n",
       "      <td>4</td>\n",
       "      <td>4.0</td>\n",
       "      <td>Standard</td>\n",
       "      <td>5.0</td>\n",
       "      <td>Unmarried</td>\n",
       "      <td>4.0</td>\n",
       "      <td>1</td>\n",
       "      <td>5</td>\n",
       "      <td>0</td>\n",
       "      <td>1.0</td>\n",
       "      <td>Senior Manager</td>\n",
       "      <td>27242.0</td>\n",
       "    </tr>\n",
       "  </tbody>\n",
       "</table>\n",
       "</div>"
      ],
      "text/plain": [
       "      CustomerID  ProdTaken   Age TypeofContact  CityTier  DurationOfPitch  \\\n",
       "198       200198          0  38.0  Self Enquiry         1              8.0   \n",
       "1045      201045          0  40.0  Self Enquiry         1              8.0   \n",
       "3699      203699          1  34.0  Self Enquiry         3             23.0   \n",
       "\n",
       "          Occupation   Gender  NumberOfPersonVisiting  NumberOfFollowups  \\\n",
       "198         Salaried     Male                       2                3.0   \n",
       "1045  Small Business     Male                       3                3.0   \n",
       "3699        Salaried  Fe Male                       4                4.0   \n",
       "\n",
       "     ProductPitched  PreferredPropertyStar MaritalStatus  NumberOfTrips  \\\n",
       "198          Deluxe                    3.0      Divorced            1.0   \n",
       "1045          Basic                    3.0       Married            3.0   \n",
       "3699       Standard                    5.0     Unmarried            4.0   \n",
       "\n",
       "      Passport  PitchSatisfactionScore  OwnCar  NumberOfChildrenVisiting  \\\n",
       "198          0                       2       0                       1.0   \n",
       "1045         0                       1       0                       0.0   \n",
       "3699         1                       5       0                       1.0   \n",
       "\n",
       "         Designation  MonthlyIncome  \n",
       "198          Manager        21553.0  \n",
       "1045       Executive        17345.0  \n",
       "3699  Senior Manager        27242.0  "
      ]
     },
     "execution_count": 31,
     "metadata": {},
     "output_type": "execute_result"
    }
   ],
   "source": [
    "w.get_info(df)"
   ]
  },
  {
   "cell_type": "markdown",
   "metadata": {},
   "source": [
    "### Data Acquisition Takeaways:\n",
    " - Most of our columns are numeric types.\n",
    " - There are a handful of nulls that I need to handle.\n",
    " - Object columns will need to be addressed and be changed to numeral types."
   ]
  },
  {
   "cell_type": "markdown",
   "metadata": {},
   "source": [
    "### **Prepare/Clean Data**"
   ]
  },
  {
   "cell_type": "code",
   "execution_count": 32,
   "metadata": {},
   "outputs": [],
   "source": [
    "# first and foremost let's rename our columns to more human readable\n",
    "\n",
    "# make columns all lowercase\n",
    "df.rename(str.lower, axis='columns', inplace=True)\n",
    "\n",
    "# rename columns\n",
    "df.rename(columns={'customerid': 'cust_id',\n",
    "                   'prodtaken': 'product_taken',\n",
    "                   'typeofcontact': 'contact_type',\n",
    "                   'citytier': 'city_tier',\n",
    "                   'durationofpitch': 'pitch_duration',\n",
    "                   'numberofpersonvisiting': 'group_size',\n",
    "                   'numberoffollowups': 'no_followups',\n",
    "                   'productpitched': 'product_pitched',\n",
    "                   'preferredpropertystar': 'preferred_property_star',\n",
    "                   'maritalstatus': 'marital_status',\n",
    "                   'numberoftrips': 'no_trips',\n",
    "                   'pitchsatisfactionscore': 'pitch_sat_score',\n",
    "                   'owncar': 'has_car',\n",
    "                   'numberofchildrenvisiting': 'no_children',\n",
    "                   'monthlyincome': 'monthly_income'\n",
    "}, inplace=True)"
   ]
  },
  {
   "cell_type": "code",
   "execution_count": 33,
   "metadata": {},
   "outputs": [
    {
     "data": {
      "text/plain": [
       "Self Enquiry       3444\n",
       "Company Invited    1419\n",
       "NaN                  25\n",
       "Name: contact_type, dtype: int64"
      ]
     },
     "execution_count": 33,
     "metadata": {},
     "output_type": "execute_result"
    }
   ],
   "source": [
    "# get the values for contact type column including nulls\n",
    "df.contact_type.value_counts(dropna=False)"
   ]
  },
  {
   "cell_type": "code",
   "execution_count": 34,
   "metadata": {},
   "outputs": [
    {
     "data": {
      "text/plain": [
       "3444"
      ]
     },
     "execution_count": 34,
     "metadata": {},
     "output_type": "execute_result"
    }
   ],
   "source": [
    "df[df.contact_type=='Self Enquiry'].contact_type.count()"
   ]
  },
  {
   "cell_type": "code",
   "execution_count": 38,
   "metadata": {},
   "outputs": [],
   "source": [
    "# change the entries of contact_type from Self Enquiry to Self Inquiry\n",
    "df.contact_type = np.where(df.contact_type=='Self Enquiry', 'Self Inquiry', df.contact_type)"
   ]
  },
  {
   "cell_type": "code",
   "execution_count": 42,
   "metadata": {},
   "outputs": [
    {
     "data": {
      "text/plain": [
       "Self Inquiry       3444\n",
       "Company Invited    1419\n",
       "NaN                  25\n",
       "Name: contact_type, dtype: int64"
      ]
     },
     "execution_count": 42,
     "metadata": {},
     "output_type": "execute_result"
    }
   ],
   "source": [
    "df.contact_type.value_counts(dropna=False)"
   ]
  },
  {
   "cell_type": "code",
   "execution_count": 43,
   "metadata": {},
   "outputs": [
    {
     "data": {
      "text/plain": [
       "False"
      ]
     },
     "execution_count": 43,
     "metadata": {},
     "output_type": "execute_result"
    }
   ],
   "source": [
    "# double check there are no duplicates\n",
    "df.duplicated().any()"
   ]
  },
  {
   "cell_type": "code",
   "execution_count": 44,
   "metadata": {},
   "outputs": [
    {
     "data": {
      "text/plain": [
       "['cust_id',\n",
       " 'product_taken',\n",
       " 'age',\n",
       " 'contact_type',\n",
       " 'city_tier',\n",
       " 'pitch_duration',\n",
       " 'occupation',\n",
       " 'gender',\n",
       " 'group_size',\n",
       " 'no_followups',\n",
       " 'product_pitched',\n",
       " 'preferred_property_star',\n",
       " 'marital_status',\n",
       " 'no_trips',\n",
       " 'passport',\n",
       " 'pitch_sat_score',\n",
       " 'has_car',\n",
       " 'no_children',\n",
       " 'designation',\n",
       " 'monthly_income']"
      ]
     },
     "execution_count": 44,
     "metadata": {},
     "output_type": "execute_result"
    }
   ],
   "source": [
    "df.columns.tolist()"
   ]
  },
  {
   "cell_type": "markdown",
   "metadata": {},
   "source": [
    "**Gather changes into a giant prepare function**"
   ]
  },
  {
   "cell_type": "code",
   "execution_count": null,
   "metadata": {},
   "outputs": [],
   "source": [
    "def prepare_holiday(df):\n",
    "    '''\n",
    "    This function takes in a the holiday data set and cleans it by lowercasing and renaming columns,\n",
    "\n",
    "    '''\n",
    "    # lowercase all column names\n",
    "    df.rename(str.lower, axis='columns', inplace=True)\n",
    "    \n",
    "    # rename our columns to more human readable\n",
    "    df.rename(columns={'prodtaken': 'product_taken',\n",
    "                    'typeofcontact': 'contact_type',\n",
    "                    'citytier': 'city_tier',\n",
    "                    'durationofpitch': 'pitch_duration',\n",
    "                    'numberofpersonvisiting': 'group_size',\n",
    "                    'numberoffollowups': 'no_followups',\n",
    "                    'productpitched': 'product_pitched',\n",
    "                    'preferredpropertystar': 'preferred_property_star',\n",
    "                    'maritalstatus': 'marital_status',\n",
    "                    'numberoftrips': 'no_trips',\n",
    "                    'pitchsatisfactionscore': 'pitch_sat_score',\n",
    "                    'owncar': 'has_car',\n",
    "                    'numberofchildrenvisiting': 'no_children',\n",
    "                    'monthlyincome': 'monthly_income'\n",
    "    }, inplace=True)\n",
    "    \n",
    "    # drop customerid as it will give us zero value\n",
    "    df.drop(columns='customerid', inplace=True)\n",
    "    \n",
    "    # change the entries of contact_type from Self Enquiry to Self Inquiry\n",
    "    df.contact_type = np.where(df.contact_type=='Self Enquiry', 'Self Inquiry', df.contact_type)\n",
    "\n",
    "    return df"
   ]
  },
  {
   "cell_type": "markdown",
   "metadata": {},
   "source": [
    "**Now we need to address the nulls**"
   ]
  },
  {
   "cell_type": "code",
   "execution_count": null,
   "metadata": {},
   "outputs": [],
   "source": [
    "df.isnull().sum()"
   ]
  },
  {
   "cell_type": "code",
   "execution_count": null,
   "metadata": {},
   "outputs": [],
   "source": [
    "null_list = ['age', 'pitch_duration', 'no_followups', 'preferred_property_star', 'no_trips', 'no_children', 'monthly_income']\n",
    "\n",
    "df[null_list].sample(5)"
   ]
  },
  {
   "cell_type": "code",
   "execution_count": null,
   "metadata": {},
   "outputs": [],
   "source": [
    "# visualize the distribution of columns to get an idea of if/how we might impute them\n",
    "\n",
    "for i in null_list:\n",
    "    sns.displot(df, x=i)\n",
    "    plt.title('Distribution of '+i)\n",
    "    plt.show();"
   ]
  },
  {
   "cell_type": "markdown",
   "metadata": {},
   "source": [
    "**Takeaways:**\n",
    "- pitch_duration, no_trips, monthly income all appear to have some outliers\n",
    "    - we could address by either removing them, scaling the data (robust scaler is best), or using an algorithm that is least sensitive to outliers\n",
    "- For the rest of the data, it's worth imputing based off mean and mode.\n",
    "- With more time, I will attempt to re-do this project with just removing the nulls and seeing if that gives me different results."
   ]
  },
  {
   "cell_type": "code",
   "execution_count": null,
   "metadata": {},
   "outputs": [],
   "source": []
  },
  {
   "cell_type": "code",
   "execution_count": null,
   "metadata": {},
   "outputs": [],
   "source": []
  },
  {
   "cell_type": "code",
   "execution_count": null,
   "metadata": {},
   "outputs": [],
   "source": [
    "def get_lower_and_upper_bounds(df, k=1.5):\n",
    "    '''\n",
    "    calculates the lower and upper bound to locate outliers and displays them\n",
    "    note: recommended k be 1.5\n",
    "    '''\n",
    "    for i in df.columns:\n",
    "        if df[i].dtypes != 'object':\n",
    "            quartile1, quartile3 = np.percentile(df[i], [25,75])\n",
    "            IQR_value = quartile3 - quartile1\n",
    "            lower_bound = (quartile1 - (k * IQR_value))\n",
    "            upper_bound = (quartile3 + (k * IQR_value))\n",
    "            print(f'For {i} the lower bound is {lower_bound} and  upper bound is {upper_bound}')\n",
    "        \n",
    "        \n",
    "        \n",
    "def visualize_get_lower_and_upper_bounds(df, k=1.5):\n",
    "    '''\n",
    "    calculates the lower and upper bound to locate outliers and displays them\n",
    "    note: recommended k be 1.5\n",
    "    '''\n",
    "    for i in df.columns:\n",
    "        if df[i].dtypes != 'object':\n",
    "            quartile1, quartile3 = np.percentile(df[i], [25,75])\n",
    "            IQR_value = quartile3 - quartile1\n",
    "            lower_bound = (quartile1 - (k * IQR_value))\n",
    "            upper_bound = (quartile3 + (k * IQR_value))\n",
    "            print(f'For {i} the lower bound is {lower_bound} and  upper bound is {upper_bound}')\n",
    "            \n",
    "            # get those visualizations going\n",
    "            plt.figure(figsize=(16,4))\n",
    "            plt.subplot(1, 2, 1)\n",
    "            sns.histplot(data = df, x = df[i], kde=True)\n",
    "            plt.title(i)\n",
    "            plt.subplot(1, 2, 2)\n",
    "            sns.boxplot(x=df[i], data=df, whis=k)\n",
    "            plt.title(i)\n",
    "            plt.show()"
   ]
  },
  {
   "cell_type": "code",
   "execution_count": null,
   "metadata": {},
   "outputs": [],
   "source": [
    "df.pitch_duration"
   ]
  },
  {
   "cell_type": "code",
   "execution_count": null,
   "metadata": {},
   "outputs": [],
   "source": [
    "quartile1, quartile3 = np.percentile(df.pitch_duration, [25,75])\n",
    "IQR_value = quartile3 - quartile1\n",
    "lower_bound = (quartile1 - (1.5 * IQR_value))\n",
    "upper_bound = (quartile3 + (1.5 * IQR_value))\n",
    "print(f'For pitch duration the lower bound is {lower_bound} and  upper bound is {upper_bound}')\n",
    "\n",
    "print(quartile1, quartile3, IQR_value)\n",
    "\n",
    "np.percentile(df.pitch_duration, 25)"
   ]
  },
  {
   "cell_type": "code",
   "execution_count": null,
   "metadata": {},
   "outputs": [],
   "source": [
    "df.pitch_duration"
   ]
  },
  {
   "cell_type": "code",
   "execution_count": null,
   "metadata": {},
   "outputs": [],
   "source": [
    "get_lower_and_upper_bounds(df, k=1.5)"
   ]
  },
  {
   "cell_type": "code",
   "execution_count": null,
   "metadata": {},
   "outputs": [],
   "source": [
    "# use visualize outlier function to gauge outliers\n",
    "visualize_get_lower_and_upper_bounds(df, k=1.5)"
   ]
  },
  {
   "cell_type": "markdown",
   "metadata": {},
   "source": [
    "**Columns with outliers:** \\\n",
    "    - monthly_income\\\n",
    "    - no_followsup\\\n",
    "    - no_trips\\\n",
    "    - group_size\\\n",
    "    - pitch_duration"
   ]
  },
  {
   "cell_type": "code",
   "execution_count": null,
   "metadata": {},
   "outputs": [],
   "source": [
    "# dive into columns with outliers\n",
    "outliers = ['monthly_income', 'no_followups', 'no_trips', 'group_size', 'pitch_duration']\n",
    "\n",
    "visualize_get_lower_and_upper_bounds(df[outliers], k=1.5)"
   ]
  },
  {
   "cell_type": "code",
   "execution_count": null,
   "metadata": {},
   "outputs": [],
   "source": [
    "# let's take a look at the specific anomalies\n",
    "# monthly income anomaly\n",
    "df[df.monthly_income>50000]"
   ]
  },
  {
   "cell_type": "code",
   "execution_count": null,
   "metadata": {},
   "outputs": [],
   "source": [
    "df[(df.no_followups>5) | (df.no_followups<2)].no_followups.value_counts()"
   ]
  },
  {
   "cell_type": "code",
   "execution_count": null,
   "metadata": {},
   "outputs": [],
   "source": [
    "df[df.no_trips>=7].no_trips.value_counts()"
   ]
  },
  {
   "cell_type": "code",
   "execution_count": null,
   "metadata": {},
   "outputs": [],
   "source": [
    "df.isnull().sum()"
   ]
  },
  {
   "cell_type": "code",
   "execution_count": null,
   "metadata": {},
   "outputs": [],
   "source": [
    "def missing_values_table(df):\n",
    "        # Total missing values\n",
    "        mis_val = df.isnull().sum()\n",
    "        \n",
    "        # Percentage of missing values\n",
    "        mis_val_percent = 100 * df.isnull().sum() / len(df)\n",
    "        \n",
    "        # Make a table with the results\n",
    "        mis_val_table = pd.concat([mis_val, mis_val_percent], axis=1)\n",
    "        \n",
    "        # Rename the columns\n",
    "        mis_val_table_ren_columns = mis_val_table.rename(\n",
    "        columns = {0 : 'Missing Values', 1 : '% of Total Values'})\n",
    "        \n",
    "        # Sort the table by percentage of missing descending\n",
    "        mis_val_table_ren_columns = mis_val_table_ren_columns[\n",
    "            mis_val_table_ren_columns.iloc[:,1] != 0].sort_values(\n",
    "        '% of Total Values', ascending=False).round(1)\n",
    "        \n",
    "        # Print some summary information\n",
    "        print (\"Your selected dataframe has \" + str(df.shape[1]) + \" columns.\\n\"      \n",
    "            \"There are \" + str(mis_val_table_ren_columns.shape[0]) +\n",
    "              \" columns that have missing values.\")\n",
    "        \n",
    "        # Return the dataframe with missing information\n",
    "        return mis_val_table_ren_columns"
   ]
  },
  {
   "cell_type": "code",
   "execution_count": null,
   "metadata": {},
   "outputs": [],
   "source": [
    "missing_values_table(df)"
   ]
  },
  {
   "cell_type": "code",
   "execution_count": null,
   "metadata": {},
   "outputs": [],
   "source": [
    "# why are the columns printing out weird\n",
    "# I suspect there may be some trailing spaces\n",
    "df.columns"
   ]
  },
  {
   "cell_type": "code",
   "execution_count": null,
   "metadata": {},
   "outputs": [],
   "source": [
    "df.columns.tolist()"
   ]
  },
  {
   "cell_type": "code",
   "execution_count": null,
   "metadata": {},
   "outputs": [],
   "source": [
    "for i in df.columns:\n",
    "    df[i] = df[i.strip()]"
   ]
  },
  {
   "cell_type": "code",
   "execution_count": null,
   "metadata": {},
   "outputs": [],
   "source": [
    "df.columns = df.columns.str.replace(' ', '')"
   ]
  },
  {
   "cell_type": "code",
   "execution_count": null,
   "metadata": {},
   "outputs": [],
   "source": [
    "df.columns"
   ]
  },
  {
   "cell_type": "code",
   "execution_count": null,
   "metadata": {},
   "outputs": [],
   "source": [
    "df.head()"
   ]
  },
  {
   "cell_type": "markdown",
   "metadata": {},
   "source": [
    "**Analyze Nulls**"
   ]
  },
  {
   "cell_type": "code",
   "execution_count": null,
   "metadata": {},
   "outputs": [],
   "source": [
    "df.isnull().sum()"
   ]
  },
  {
   "cell_type": "code",
   "execution_count": null,
   "metadata": {},
   "outputs": [],
   "source": [
    "sns.distplot(df.age);"
   ]
  },
  {
   "cell_type": "code",
   "execution_count": null,
   "metadata": {},
   "outputs": [],
   "source": [
    "sns.distplot(df.pitch_duration);"
   ]
  },
  {
   "cell_type": "code",
   "execution_count": null,
   "metadata": {},
   "outputs": [],
   "source": []
  },
  {
   "cell_type": "code",
   "execution_count": null,
   "metadata": {},
   "outputs": [],
   "source": []
  },
  {
   "cell_type": "code",
   "execution_count": null,
   "metadata": {},
   "outputs": [],
   "source": []
  }
 ],
 "metadata": {
  "kernelspec": {
   "display_name": "Python 3",
   "language": "python",
   "name": "python3"
  },
  "language_info": {
   "codemirror_mode": {
    "name": "ipython",
    "version": 3
   },
   "file_extension": ".py",
   "mimetype": "text/x-python",
   "name": "python",
   "nbconvert_exporter": "python",
   "pygments_lexer": "ipython3",
   "version": "3.8.5"
  }
 },
 "nbformat": 4,
 "nbformat_minor": 4
}
