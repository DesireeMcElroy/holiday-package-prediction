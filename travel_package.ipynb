{
 "cells": [
  {
   "cell_type": "markdown",
   "metadata": {},
   "source": [
    "# **Holiday Package Prediction**"
   ]
  },
  {
   "cell_type": "markdown",
   "metadata": {},
   "source": [
    "**Steps of the Data Science Pipeline**\n",
    "- Acquire our Data\n",
    "- Prepare/Clean our Data\n",
    "- Explore/Analyze our Data\n",
    "- Model"
   ]
  },
  {
   "cell_type": "code",
   "execution_count": 2,
   "metadata": {},
   "outputs": [],
   "source": [
    "import pandas as pd\n",
    "import numpy as np\n",
    "\n",
    "import seaborn as sns\n",
    "import matplotlib.pyplot as plt\n",
    "\n",
    "import wrangle as w"
   ]
  },
  {
   "cell_type": "markdown",
   "metadata": {},
   "source": [
    "### Acquire Data"
   ]
  },
  {
   "cell_type": "markdown",
   "metadata": {},
   "source": [
    "**Acquired data from [here](https://www.kaggle.com/susant4learning/holiday-package-purchase-prediction?select=Travel.csv)"
   ]
  },
  {
   "cell_type": "code",
   "execution_count": 3,
   "metadata": {},
   "outputs": [],
   "source": [
    "# bring in CSV file\n",
    "df = pd.read_csv('Travel.csv')"
   ]
  },
  {
   "cell_type": "code",
   "execution_count": 4,
   "metadata": {},
   "outputs": [
    {
     "name": "stdout",
     "output_type": "stream",
     "text": [
      "<class 'pandas.core.frame.DataFrame'>\n",
      "RangeIndex: 4888 entries, 0 to 4887\n",
      "Data columns (total 20 columns):\n",
      " #   Column                    Non-Null Count  Dtype  \n",
      "---  ------                    --------------  -----  \n",
      " 0   CustomerID                4888 non-null   int64  \n",
      " 1   ProdTaken                 4888 non-null   int64  \n",
      " 2   Age                       4662 non-null   float64\n",
      " 3   TypeofContact             4863 non-null   object \n",
      " 4   CityTier                  4888 non-null   int64  \n",
      " 5   DurationOfPitch           4637 non-null   float64\n",
      " 6   Occupation                4888 non-null   object \n",
      " 7   Gender                    4888 non-null   object \n",
      " 8   NumberOfPersonVisiting    4888 non-null   int64  \n",
      " 9   NumberOfFollowups         4843 non-null   float64\n",
      " 10  ProductPitched            4888 non-null   object \n",
      " 11  PreferredPropertyStar     4862 non-null   float64\n",
      " 12  MaritalStatus             4888 non-null   object \n",
      " 13  NumberOfTrips             4748 non-null   float64\n",
      " 14  Passport                  4888 non-null   int64  \n",
      " 15  PitchSatisfactionScore    4888 non-null   int64  \n",
      " 16  OwnCar                    4888 non-null   int64  \n",
      " 17  NumberOfChildrenVisiting  4822 non-null   float64\n",
      " 18  Designation               4888 non-null   object \n",
      " 19  MonthlyIncome             4655 non-null   float64\n",
      "dtypes: float64(7), int64(7), object(6)\n",
      "memory usage: 763.9+ KB\n",
      "None\n",
      "\n",
      "------------------------\n",
      "\n",
      "This dataframe has 4888 rows and 20 columns.\n",
      "\n",
      "------------------------\n",
      "\n",
      "Null count in dataframe:\n",
      "------------------------\n",
      "CustomerID                    0\n",
      "ProdTaken                     0\n",
      "Age                         226\n",
      "TypeofContact                25\n",
      "CityTier                      0\n",
      "DurationOfPitch             251\n",
      "Occupation                    0\n",
      "Gender                        0\n",
      "NumberOfPersonVisiting        0\n",
      "NumberOfFollowups            45\n",
      "ProductPitched                0\n",
      "PreferredPropertyStar        26\n",
      "MaritalStatus                 0\n",
      "NumberOfTrips               140\n",
      "Passport                      0\n",
      "PitchSatisfactionScore        0\n",
      "OwnCar                        0\n",
      "NumberOfChildrenVisiting     66\n",
      "Designation                   0\n",
      "MonthlyIncome               233\n",
      "dtype: int64\n",
      "\n",
      "------------------------\n",
      " Dataframe sample:\n",
      "\n"
     ]
    },
    {
     "data": {
      "text/html": [
       "<div>\n",
       "<style scoped>\n",
       "    .dataframe tbody tr th:only-of-type {\n",
       "        vertical-align: middle;\n",
       "    }\n",
       "\n",
       "    .dataframe tbody tr th {\n",
       "        vertical-align: top;\n",
       "    }\n",
       "\n",
       "    .dataframe thead th {\n",
       "        text-align: right;\n",
       "    }\n",
       "</style>\n",
       "<table border=\"1\" class=\"dataframe\">\n",
       "  <thead>\n",
       "    <tr style=\"text-align: right;\">\n",
       "      <th></th>\n",
       "      <th>CustomerID</th>\n",
       "      <th>ProdTaken</th>\n",
       "      <th>Age</th>\n",
       "      <th>TypeofContact</th>\n",
       "      <th>CityTier</th>\n",
       "      <th>DurationOfPitch</th>\n",
       "      <th>Occupation</th>\n",
       "      <th>Gender</th>\n",
       "      <th>NumberOfPersonVisiting</th>\n",
       "      <th>NumberOfFollowups</th>\n",
       "      <th>ProductPitched</th>\n",
       "      <th>PreferredPropertyStar</th>\n",
       "      <th>MaritalStatus</th>\n",
       "      <th>NumberOfTrips</th>\n",
       "      <th>Passport</th>\n",
       "      <th>PitchSatisfactionScore</th>\n",
       "      <th>OwnCar</th>\n",
       "      <th>NumberOfChildrenVisiting</th>\n",
       "      <th>Designation</th>\n",
       "      <th>MonthlyIncome</th>\n",
       "    </tr>\n",
       "  </thead>\n",
       "  <tbody>\n",
       "    <tr>\n",
       "      <th>3720</th>\n",
       "      <td>203720</td>\n",
       "      <td>0</td>\n",
       "      <td>38.0</td>\n",
       "      <td>Self Enquiry</td>\n",
       "      <td>3</td>\n",
       "      <td>16.0</td>\n",
       "      <td>Small Business</td>\n",
       "      <td>Male</td>\n",
       "      <td>3</td>\n",
       "      <td>5.0</td>\n",
       "      <td>Deluxe</td>\n",
       "      <td>4.0</td>\n",
       "      <td>Married</td>\n",
       "      <td>3.0</td>\n",
       "      <td>0</td>\n",
       "      <td>4</td>\n",
       "      <td>0</td>\n",
       "      <td>2.0</td>\n",
       "      <td>Manager</td>\n",
       "      <td>22867.0</td>\n",
       "    </tr>\n",
       "    <tr>\n",
       "      <th>2647</th>\n",
       "      <td>202647</td>\n",
       "      <td>0</td>\n",
       "      <td>41.0</td>\n",
       "      <td>Self Enquiry</td>\n",
       "      <td>1</td>\n",
       "      <td>26.0</td>\n",
       "      <td>Small Business</td>\n",
       "      <td>Male</td>\n",
       "      <td>3</td>\n",
       "      <td>4.0</td>\n",
       "      <td>Deluxe</td>\n",
       "      <td>3.0</td>\n",
       "      <td>Divorced</td>\n",
       "      <td>2.0</td>\n",
       "      <td>1</td>\n",
       "      <td>2</td>\n",
       "      <td>1</td>\n",
       "      <td>2.0</td>\n",
       "      <td>Manager</td>\n",
       "      <td>21419.0</td>\n",
       "    </tr>\n",
       "    <tr>\n",
       "      <th>3811</th>\n",
       "      <td>203811</td>\n",
       "      <td>0</td>\n",
       "      <td>28.0</td>\n",
       "      <td>Self Enquiry</td>\n",
       "      <td>1</td>\n",
       "      <td>9.0</td>\n",
       "      <td>Large Business</td>\n",
       "      <td>Male</td>\n",
       "      <td>3</td>\n",
       "      <td>4.0</td>\n",
       "      <td>Basic</td>\n",
       "      <td>4.0</td>\n",
       "      <td>Married</td>\n",
       "      <td>3.0</td>\n",
       "      <td>0</td>\n",
       "      <td>4</td>\n",
       "      <td>1</td>\n",
       "      <td>2.0</td>\n",
       "      <td>Executive</td>\n",
       "      <td>20904.0</td>\n",
       "    </tr>\n",
       "  </tbody>\n",
       "</table>\n",
       "</div>"
      ],
      "text/plain": [
       "      CustomerID  ProdTaken   Age TypeofContact  CityTier  DurationOfPitch  \\\n",
       "3720      203720          0  38.0  Self Enquiry         3             16.0   \n",
       "2647      202647          0  41.0  Self Enquiry         1             26.0   \n",
       "3811      203811          0  28.0  Self Enquiry         1              9.0   \n",
       "\n",
       "          Occupation Gender  NumberOfPersonVisiting  NumberOfFollowups  \\\n",
       "3720  Small Business   Male                       3                5.0   \n",
       "2647  Small Business   Male                       3                4.0   \n",
       "3811  Large Business   Male                       3                4.0   \n",
       "\n",
       "     ProductPitched  PreferredPropertyStar MaritalStatus  NumberOfTrips  \\\n",
       "3720         Deluxe                    4.0       Married            3.0   \n",
       "2647         Deluxe                    3.0      Divorced            2.0   \n",
       "3811          Basic                    4.0       Married            3.0   \n",
       "\n",
       "      Passport  PitchSatisfactionScore  OwnCar  NumberOfChildrenVisiting  \\\n",
       "3720         0                       4       0                       2.0   \n",
       "2647         1                       2       1                       2.0   \n",
       "3811         0                       4       1                       2.0   \n",
       "\n",
       "     Designation  MonthlyIncome  \n",
       "3720     Manager        22867.0  \n",
       "2647     Manager        21419.0  \n",
       "3811   Executive        20904.0  "
      ]
     },
     "execution_count": 4,
     "metadata": {},
     "output_type": "execute_result"
    }
   ],
   "source": [
    "w.get_info(df)"
   ]
  },
  {
   "cell_type": "markdown",
   "metadata": {},
   "source": [
    "### Data Acquisition Takeaways:\n",
    " - Most of our columns are numeral types.\n",
    " - There are a handful of nulls that I need to handle.\n",
    " - Object columns will need to be addressed and be changed to numeral types."
   ]
  },
  {
   "cell_type": "markdown",
   "metadata": {},
   "source": [
    "### **Prepare/Clean Data**"
   ]
  },
  {
   "cell_type": "code",
   "execution_count": 7,
   "metadata": {},
   "outputs": [],
   "source": [
    "# first and foremost let's rename our columns to more human readable\n",
    "df.rename(str.lower, axis='columns', inplace=True)\n",
    "df.rename(columns={'customerid': 'cust_id',\n",
    "                   'prodtaken': 'product_taken',\n",
    "                   'typeofcontact': 'contact_type',\n",
    "                   'citytier': 'city_tier',\n",
    "                   'durationofpitch': 'pitch_duration',\n",
    "                   'numberofpersonvisiting': 'group_size',\n",
    "                   'numberoffollowups': 'no_followups',\n",
    "                   'productpitched': 'product_pitched',\n",
    "                   'preferredpropertystar': 'preferred_property_star',\n",
    "                   'maritalstatus': 'marital_status',\n",
    "                   'numberoftrips': 'no_trips',\n",
    "                   'pitchsatisfactionscore': 'pitch_sat_score',\n",
    "                   'owncar': 'has_car',\n",
    "                   'numberofchildrenvisiting': 'no_children',\n",
    "                   'monthlyincome': 'monthly_income'\n",
    "}, inplace=True)"
   ]
  },
  {
   "cell_type": "code",
   "execution_count": 8,
   "metadata": {},
   "outputs": [
    {
     "data": {
      "text/plain": [
       "cust_id                      0\n",
       "product_taken                0\n",
       "age                        226\n",
       "contact_type                25\n",
       "city_tier                    0\n",
       "pitch_duration             251\n",
       "occupation                   0\n",
       "gender                       0\n",
       "group_size                   0\n",
       "no_followups                45\n",
       "product_pitched              0\n",
       "preferred_property_star     26\n",
       "marital_status               0\n",
       "no_trips                   140\n",
       "passport                     0\n",
       "pitch_sat_score              0\n",
       "has_car                      0\n",
       "no_children                 66\n",
       "designation                  0\n",
       "monthly_income             233\n",
       "dtype: int64"
      ]
     },
     "execution_count": 8,
     "metadata": {},
     "output_type": "execute_result"
    }
   ],
   "source": [
    "# let's take a look at distribution of the columns\n"
   ]
  }
 ],
 "metadata": {
  "kernelspec": {
   "display_name": "Python 3",
   "language": "python",
   "name": "python3"
  },
  "language_info": {
   "codemirror_mode": {
    "name": "ipython",
    "version": 3
   },
   "file_extension": ".py",
   "mimetype": "text/x-python",
   "name": "python",
   "nbconvert_exporter": "python",
   "pygments_lexer": "ipython3",
   "version": "3.8.5"
  }
 },
 "nbformat": 4,
 "nbformat_minor": 4
}
